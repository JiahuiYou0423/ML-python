{
  "nbformat": 4,
  "nbformat_minor": 0,
  "metadata": {
    "colab": {
      "provenance": [],
      "collapsed_sections": []
    },
    "kernelspec": {
      "name": "python3",
      "display_name": "Python 3"
    },
    "language_info": {
      "name": "python"
    }
  },
  "cells": [
    {
      "cell_type": "code",
      "execution_count": 3,
      "metadata": {
        "id": "C5abJ1opfJ4o"
      },
      "outputs": [],
      "source": [
        "import numpy as np\n",
        "import pandas as pd\n",
        "import matplotlib\n",
        "import matplotlib.pyplot as plt\n"
      ]
    },
    {
      "cell_type": "code",
      "source": [],
      "metadata": {
        "id": "2ouddsOCx0uw"
      },
      "execution_count": null,
      "outputs": []
    },
    {
      "cell_type": "markdown",
      "source": [
        "# Ensemble learning\n",
        "- hard vote: use the majority result\n",
        "- Soft vote: use the highest possibility value"
      ],
      "metadata": {
        "id": "byME6lwtsbGN"
      }
    },
    {
      "cell_type": "code",
      "source": [
        "from sklearn.model_selection import train_test_split\n",
        "from sklearn.datasets import make_moons\n",
        "x, y = make_moons(n_samples = 500, noise =0.3, random_state=40)\n",
        "x_train, x_test, y_train, y_test = train_test_split(x, y, test_size=0.2, random_state=40)\n",
        "plt.plot(x[:,0][y==0], x[:,1][y==0], 'yo', alpha=0.6)\n",
        "plt.plot(x[:,0][y==1], x[:,1][y==1], 'bs', alpha=0.6)\n",
        "plt.show()\n"
      ],
      "metadata": {
        "colab": {
          "base_uri": "https://localhost:8080/",
          "height": 265
        },
        "id": "dlVA7gW5sa1e",
        "outputId": "8a3cd750-ecf1-4867-f46a-daa94e287dae"
      },
      "execution_count": 4,
      "outputs": [
        {
          "output_type": "display_data",
          "data": {
            "text/plain": [
              "<Figure size 432x288 with 1 Axes>"
            ],
            "image/png": "[encoded data removed]"
          },
          "metadata": {
            "needs_background": "light"
          }
        }
      ]
    },
    {
      "cell_type": "code",
      "source": [],
      "metadata": {
        "id": "YBGJsMUmwOm2"
      },
      "execution_count": null,
      "outputs": []
    },
    {
      "cell_type": "markdown",
      "source": [
        "# Voting strategy\n",
        "## - Hard voting"
      ],
      "metadata": {
        "id": "P2gHjGqMwRVS"
      }
    },
    {
      "cell_type": "code",
      "source": [
        "from sklearn.ensemble import RandomForestClassifier, VotingClassifier\n",
        "from sklearn.linear_model import LogisticRegression\n",
        "from sklearn.svm import SVC\n",
        "\n",
        "log_clf = LogisticRegression(random_state=42)\n",
        "rnd_clf = RandomForestClassifier(random_state=42)\n",
        "svc_clf = SVC(random_state=42)\n",
        "\n",
        "voting_clf = VotingClassifier(estimators=[('lc',log_clf),('rd',rnd_clf),('svc_clf',svc_clf)],voting='hard')\n"
      ],
      "metadata": {
        "id": "pIvS497gwYsQ"
      },
      "execution_count": 5,
      "outputs": []
    },
    {
      "cell_type": "code",
      "source": [
        "voting_clf.fit(x_train, y_train)"
      ],
      "metadata": {
        "colab": {
          "base_uri": "https://localhost:8080/"
        },
        "id": "2LA-AS-8yHEq",
        "outputId": "54881cb5-07c1-4826-8370-cb76a0b7ce0a"
      },
      "execution_count": 6,
      "outputs": [
        {
          "output_type": "execute_result",
          "data": {
            "text/plain": [
              "VotingClassifier(estimators=[('lc', LogisticRegression(random_state=42)),\n",
              "                             ('rd', RandomForestClassifier(random_state=42)),\n",
              "                             ('svc_clf', SVC(random_state=42))])"
            ]
          },
          "metadata": {},
          "execution_count": 6
        }
      ]
    },
    {
      "cell_type": "code",
      "source": [
        "from sklearn.metrics import accuracy_score\n",
        "for clf in (log_clf, rnd_clf, svc_clf, voting_clf):\n",
        "  clf.fit(x_train, y_train)\n",
        "  y_pred = clf.predict(x_test)\n",
        "  print(clf.__class__.__name__, accuracy_score(y_test, y_pred))"
      ],
      "metadata": {
        "colab": {
          "base_uri": "https://localhost:8080/"
        },
        "id": "dia2SHSGyUpq",
        "outputId": "15360b77-febb-4e77-db0e-54e40cd9162c"
      },
      "execution_count": 7,
      "outputs": [
        {
          "output_type": "stream",
          "name": "stdout",
          "text": [
            "LogisticRegression 0.83\n",
            "RandomForestClassifier 0.91\n",
            "SVC 0.93\n",
            "VotingClassifier 0.92\n"
          ]
        }
      ]
    },
    {
      "cell_type": "markdown",
      "source": [
        "## - Soft voting\n",
        "\n",
        "  Each classfier need to get the probability"
      ],
      "metadata": {
        "id": "jS32iqG9zSor"
      }
    },
    {
      "cell_type": "code",
      "source": [
        "from sklearn.ensemble import RandomForestClassifier, VotingClassifier\n",
        "from sklearn.linear_model import LogisticRegression\n",
        "from sklearn.svm import SVC\n",
        "\n",
        "log_clf = LogisticRegression(random_state=42)\n",
        "rnd_clf = RandomForestClassifier(random_state=42)\n",
        "svc_clf = SVC(probability=True,random_state=42)\n",
        "voting_clf = VotingClassifier(estimators=[('lc',log_clf),('rd',rnd_clf),('svc_clf',svc_clf)],voting='soft')"
      ],
      "metadata": {
        "id": "lY-DzRlhzUIL"
      },
      "execution_count": 8,
      "outputs": []
    },
    {
      "cell_type": "code",
      "source": [
        "from sklearn.metrics import accuracy_score\n",
        "for clf in (log_clf, rnd_clf, svc_clf, voting_clf):\n",
        "  clf.fit(x_train, y_train)\n",
        "  y_pred = clf.predict(x_test)\n",
        "  print(clf.__class__.__name__, accuracy_score(y_test, y_pred))"
      ],
      "metadata": {
        "colab": {
          "base_uri": "https://localhost:8080/"
        },
        "id": "kAhntJuDz064",
        "outputId": "0f5edf84-e73b-4112-ce0d-b7d7f5c37aad"
      },
      "execution_count": 9,
      "outputs": [
        {
          "output_type": "stream",
          "name": "stdout",
          "text": [
            "LogisticRegression 0.83\n",
            "RandomForestClassifier 0.91\n",
            "SVC 0.93\n",
            "VotingClassifier 0.9\n"
          ]
        }
      ]
    },
    {
      "cell_type": "markdown",
      "source": [
        "# Bagging"
      ],
      "metadata": {
        "id": "WRicrFU90Uzw"
      }
    },
    {
      "cell_type": "code",
      "source": [
        "from sklearn.ensemble import BaggingClassifier\n",
        "from sklearn.tree import DecisionTreeClassifier\n",
        "bag_clf = BaggingClassifier(\n",
        "    DecisionTreeClassifier(),\n",
        "          n_estimators=500,\n",
        "          max_samples=50,\n",
        "          bootstrap=True,\n",
        "          n_jobs = -1,\n",
        "          random_state =42)\n",
        "bag_clf.fit(x_train,y_train)\n",
        "y_pred = bag_clf.predict(x_test)\n",
        "accuracy_score(y_test, y_pred)\n"
      ],
      "metadata": {
        "colab": {
          "base_uri": "https://localhost:8080/"
        },
        "id": "fQ4kiGBd0i7M",
        "outputId": "036c2a0c-ce8c-4b3e-f649-8693cbdeae05"
      },
      "execution_count": 10,
      "outputs": [
        {
          "output_type": "execute_result",
          "data": {
            "text/plain": [
              "0.91"
            ]
          },
          "metadata": {},
          "execution_count": 10
        }
      ]
    },
    {
      "cell_type": "code",
      "source": [
        "dec_clf = DecisionTreeClassifier(random_state=42)\n",
        "dec_clf.fit(x_train,y_train)                                \n",
        "y_pred_tree = dec_clf.predict(x_test)\n",
        "accuracy_score(y_test, y_pred_tree)"
      ],
      "metadata": {
        "colab": {
          "base_uri": "https://localhost:8080/"
        },
        "id": "L5SQgoLv1bX6",
        "outputId": "879fca73-535f-4942-db16-30e2317cd612"
      },
      "execution_count": 11,
      "outputs": [
        {
          "output_type": "execute_result",
          "data": {
            "text/plain": [
              "0.84"
            ]
          },
          "metadata": {},
          "execution_count": 11
        }
      ]
    },
    {
      "cell_type": "markdown",
      "source": [
        "# decision surface"
      ],
      "metadata": {
        "id": "OqlFUJQV2DfK"
      }
    },
    {
      "cell_type": "markdown",
      "source": [
        "- with "
      ],
      "metadata": {
        "id": "eFbfGJKj2HUn"
      }
    },
    {
      "cell_type": "code",
      "source": [
        "from matplotlib.colors import ListedColormap\n",
        "def plot_decision_boundary(clf, x, y, axes=[-1.5, 2.5, -1,1.5], alpha=0.5, contour=True):\n",
        "  x1s = np.linspace(axes[0], axes[1], 100)\n",
        "  x2s = np.linspace(axes[2], axes[3], 100)\n",
        "  x1, x2 = np.meshgrid(x1s,x2s)\n",
        "  x_new = np.c_[x1.ravel(),x2.ravel()]\n",
        "  y_pred = clf.predict(x_new).reshape(x1.shape)\n",
        "  if contour:\n",
        "    custom_cmap2 = ListedColormap(['#800080','#0000FF','#00FFFF'])\n",
        "    plt.contour(x1,x2,y_pred,cmap = custom_cmap2, alpha=0.8)\n",
        "  plt.plot(x[:,0][y==0], x[:,1][y==0], 'yo', alpha=0.6)\n",
        "  plt.plot(x[:,0][y==1], x[:,1][y==1], 'bs', alpha=0.6)\n",
        "  plt.axis(axes)\n",
        "  plt.xlabel('x1')\n",
        "  plt.xlabel('x2') \n",
        "\n"
      ],
      "metadata": {
        "id": "Pu-nftia2MF5"
      },
      "execution_count": 12,
      "outputs": []
    },
    {
      "cell_type": "code",
      "source": [
        "plt.figure(figsize = (12,5))\n",
        "plt.subplot(121)\n",
        "plot_decision_boundary(bag_clf,x,y)\n",
        "plt.title('Decision tree with bagging')\n",
        "plt.subplot(122)\n",
        "plot_decision_boundary(dec_clf,x=x,y=y)\n",
        "plt.title('decision tree')\n"
      ],
      "metadata": {
        "colab": {
          "base_uri": "https://localhost:8080/",
          "height": 324
        },
        "id": "VHZBzfR72dSR",
        "outputId": "ec18a58b-3992-4569-e439-3802217b1fe7"
      },
      "execution_count": 13,
      "outputs": [
        {
          "output_type": "execute_result",
          "data": {
            "text/plain": [
              "Text(0.5, 1.0, 'decision tree')"
            ]
          },
          "metadata": {},
          "execution_count": 13
        },
        {
          "output_type": "display_data",
          "data": {
            "text/plain": [
              "<Figure size 864x360 with 2 Axes>"
            ],
            "image/png": "[encoded data removed]"
          },
          "metadata": {
            "needs_background": "light"
          }
        }
      ]
    },
    {
      "cell_type": "markdown",
      "source": [
        "# Out of Bag strategy"
      ],
      "metadata": {
        "id": "CjruVBiM6-dU"
      }
    },
    {
      "cell_type": "code",
      "source": [
        "bag_clf = BaggingClassifier(\n",
        "    DecisionTreeClassifier(),\n",
        "          n_estimators=500,\n",
        "          max_samples=50,\n",
        "          bootstrap=True,\n",
        "          n_jobs = -1,\n",
        "          random_state =42,\n",
        "          oob_score=True)\n",
        "bag_clf.fit(x_train, y_train)\n",
        "\n",
        "bag_clf.oob_score_"
      ],
      "metadata": {
        "colab": {
          "base_uri": "https://localhost:8080/"
        },
        "id": "S9xiuQrv7DEH",
        "outputId": "92d867fb-5692-4cff-e8aa-26f257dd8eae"
      },
      "execution_count": 14,
      "outputs": [
        {
          "output_type": "execute_result",
          "data": {
            "text/plain": [
              "0.885"
            ]
          },
          "metadata": {},
          "execution_count": 14
        }
      ]
    },
    {
      "cell_type": "code",
      "source": [
        "y_pred = bag_clf.predict(x_test)\n",
        "accuracy_score(y_test,y_pred)"
      ],
      "metadata": {
        "colab": {
          "base_uri": "https://localhost:8080/"
        },
        "id": "nqzESqEo7eOc",
        "outputId": "2c32404e-69b3-42f2-91d9-f905dba6fd2f"
      },
      "execution_count": 15,
      "outputs": [
        {
          "output_type": "execute_result",
          "data": {
            "text/plain": [
              "0.91"
            ]
          },
          "metadata": {},
          "execution_count": 15
        }
      ]
    },
    {
      "cell_type": "code",
      "source": [
        "bag_clf.oob_decision_function_"
      ],
      "metadata": {
        "id": "uBqgh0RH7kEl",
        "colab": {
          "base_uri": "https://localhost:8080/"
        },
        "outputId": "dda7ed3c-5f28-450d-91d8-183f48345278"
      },
      "execution_count": 16,
      "outputs": [
        {
          "output_type": "execute_result",
          "data": {
            "text/plain": [
              "array([[0.99047619, 0.00952381],\n",
              "       [0.92396313, 0.07603687],\n",
              "       [0.07174888, 0.92825112],\n",
              "       [0.03153153, 0.96846847],\n",
              "       [0.72335601, 0.27664399],\n",
              "       [0.82522124, 0.17477876],\n",
              "       [0.27842227, 0.72157773],\n",
              "       [0.71527778, 0.28472222],\n",
              "       [1.        , 0.        ],\n",
              "       [0.05790646, 0.94209354],\n",
              "       [0.07760532, 0.92239468],\n",
              "       [0.37389381, 0.62610619],\n",
              "       [0.99770642, 0.00229358],\n",
              "       [0.93891403, 0.06108597],\n",
              "       [0.97315436, 0.02684564],\n",
              "       [0.12443439, 0.87556561],\n",
              "       [0.22045455, 0.77954545],\n",
              "       [0.67920354, 0.32079646],\n",
              "       [0.95216401, 0.04783599],\n",
              "       [0.09213483, 0.90786517],\n",
              "       [0.97098214, 0.02901786],\n",
              "       [0.96162528, 0.03837472],\n",
              "       [0.94736842, 0.05263158],\n",
              "       [0.11235955, 0.88764045],\n",
              "       [0.89351852, 0.10648148],\n",
              "       [0.01830664, 0.98169336],\n",
              "       [0.30296128, 0.69703872],\n",
              "       [0.92857143, 0.07142857],\n",
              "       [0.97004608, 0.02995392],\n",
              "       [0.89709172, 0.10290828],\n",
              "       [0.96017699, 0.03982301],\n",
              "       [0.03023256, 0.96976744],\n",
              "       [0.97058824, 0.02941176],\n",
              "       [0.0397351 , 0.9602649 ],\n",
              "       [0.11235955, 0.88764045],\n",
              "       [0.74370709, 0.25629291],\n",
              "       [0.92970522, 0.07029478],\n",
              "       [0.01818182, 0.98181818],\n",
              "       [0.40639269, 0.59360731],\n",
              "       [0.40990991, 0.59009009],\n",
              "       [0.87557604, 0.12442396],\n",
              "       [0.43648961, 0.56351039],\n",
              "       [1.        , 0.        ],\n",
              "       [0.13272311, 0.86727689],\n",
              "       [0.92982456, 0.07017544],\n",
              "       [0.28082192, 0.71917808],\n",
              "       [0.93791574, 0.06208426],\n",
              "       [0.9752809 , 0.0247191 ],\n",
              "       [0.49555556, 0.50444444],\n",
              "       [0.91183295, 0.08816705],\n",
              "       [0.07158837, 0.92841163],\n",
              "       [0.66891892, 0.33108108],\n",
              "       [0.27069351, 0.72930649],\n",
              "       [0.97706422, 0.02293578],\n",
              "       [0.3200883 , 0.6799117 ],\n",
              "       [0.52293578, 0.47706422],\n",
              "       [0.60592255, 0.39407745],\n",
              "       [0.63615023, 0.36384977],\n",
              "       [0.88167053, 0.11832947],\n",
              "       [0.60792952, 0.39207048],\n",
              "       [0.703125  , 0.296875  ],\n",
              "       [1.        , 0.        ],\n",
              "       [0.86150235, 0.13849765],\n",
              "       [0.1006865 , 0.8993135 ],\n",
              "       [1.        , 0.        ],\n",
              "       [0.99775785, 0.00224215],\n",
              "       [0.07589286, 0.92410714],\n",
              "       [0.76457399, 0.23542601],\n",
              "       [0.98623853, 0.01376147],\n",
              "       [0.04454343, 0.95545657],\n",
              "       [0.81922197, 0.18077803],\n",
              "       [0.96766744, 0.03233256],\n",
              "       [0.10070258, 0.89929742],\n",
              "       [0.02752294, 0.97247706],\n",
              "       [0.32705882, 0.67294118],\n",
              "       [0.93394077, 0.06605923],\n",
              "       [0.08571429, 0.91428571],\n",
              "       [0.62045455, 0.37954545],\n",
              "       [0.02444444, 0.97555556],\n",
              "       [0.6940133 , 0.3059867 ],\n",
              "       [0.93049327, 0.06950673],\n",
              "       [0.07305936, 0.92694064],\n",
              "       [0.98004435, 0.01995565],\n",
              "       [0.92093023, 0.07906977],\n",
              "       [0.47945205, 0.52054795],\n",
              "       [0.97945205, 0.02054795],\n",
              "       [0.25171625, 0.74828375],\n",
              "       [0.09049774, 0.90950226],\n",
              "       [0.16891892, 0.83108108],\n",
              "       [0.97241379, 0.02758621],\n",
              "       [0.03854875, 0.96145125],\n",
              "       [0.15575621, 0.84424379],\n",
              "       [0.47787611, 0.52212389],\n",
              "       [0.13932584, 0.86067416],\n",
              "       [0.01552106, 0.98447894],\n",
              "       [0.90410959, 0.09589041],\n",
              "       [0.11212815, 0.88787185],\n",
              "       [0.98654709, 0.01345291],\n",
              "       [0.90566038, 0.09433962],\n",
              "       [0.84367816, 0.15632184],\n",
              "       [0.32054176, 0.67945824],\n",
              "       [0.0886918 , 0.9113082 ],\n",
              "       [0.90380313, 0.09619687],\n",
              "       [0.07762557, 0.92237443],\n",
              "       [0.71460674, 0.28539326],\n",
              "       [0.89726027, 0.10273973],\n",
              "       [0.01116071, 0.98883929],\n",
              "       [0.9562212 , 0.0437788 ],\n",
              "       [0.90022676, 0.09977324],\n",
              "       [0.98165138, 0.01834862],\n",
              "       [0.99527187, 0.00472813],\n",
              "       [0.0248307 , 0.9751693 ],\n",
              "       [0.08577878, 0.91422122],\n",
              "       [0.04298643, 0.95701357],\n",
              "       [0.2741573 , 0.7258427 ],\n",
              "       [0.94883721, 0.05116279],\n",
              "       [0.95614035, 0.04385965],\n",
              "       [0.29274005, 0.70725995],\n",
              "       [0.91611479, 0.08388521],\n",
              "       [0.98630137, 0.01369863],\n",
              "       [0.38604651, 0.61395349],\n",
              "       [0.34920635, 0.65079365],\n",
              "       [0.02022472, 0.97977528],\n",
              "       [0.16588785, 0.83411215],\n",
              "       [0.4375    , 0.5625    ],\n",
              "       [0.11555556, 0.88444444],\n",
              "       [0.79111111, 0.20888889],\n",
              "       [0.04535147, 0.95464853],\n",
              "       [0.97402597, 0.02597403],\n",
              "       [0.01149425, 0.98850575],\n",
              "       [0.38568129, 0.61431871],\n",
              "       [1.        , 0.        ],\n",
              "       [0.02690583, 0.97309417],\n",
              "       [0.0935412 , 0.9064588 ],\n",
              "       [0.11208791, 0.88791209],\n",
              "       [0.10114943, 0.89885057],\n",
              "       [0.90205011, 0.09794989],\n",
              "       [0.06605923, 0.93394077],\n",
              "       [0.02968037, 0.97031963],\n",
              "       [0.16703297, 0.83296703],\n",
              "       [0.13605442, 0.86394558],\n",
              "       [0.02947846, 0.97052154],\n",
              "       [0.05156951, 0.94843049],\n",
              "       [0.95955056, 0.04044944],\n",
              "       [0.96644295, 0.03355705],\n",
              "       [0.41891892, 0.58108108],\n",
              "       [0.98636364, 0.01363636],\n",
              "       [0.05530973, 0.94469027],\n",
              "       [0.80133929, 0.19866071],\n",
              "       [0.97482838, 0.02517162],\n",
              "       [0.02790698, 0.97209302],\n",
              "       [0.98190045, 0.01809955],\n",
              "       [0.18693694, 0.81306306],\n",
              "       [0.96674058, 0.03325942],\n",
              "       [0.32657658, 0.67342342],\n",
              "       [0.51345291, 0.48654709],\n",
              "       [0.85314685, 0.14685315],\n",
              "       [0.83571429, 0.16428571],\n",
              "       [0.0952381 , 0.9047619 ],\n",
              "       [0.0741573 , 0.9258427 ],\n",
              "       [0.95749441, 0.04250559],\n",
              "       [0.02666667, 0.97333333],\n",
              "       [0.84543326, 0.15456674],\n",
              "       [0.05168539, 0.94831461],\n",
              "       [0.94104308, 0.05895692],\n",
              "       [0.950783  , 0.049217  ],\n",
              "       [0.97018349, 0.02981651],\n",
              "       [0.49330357, 0.50669643],\n",
              "       [0.87528868, 0.12471132],\n",
              "       [0.08695652, 0.91304348],\n",
              "       [0.04054054, 0.95945946],\n",
              "       [0.99772727, 0.00227273],\n",
              "       [0.98660714, 0.01339286],\n",
              "       [0.09684685, 0.90315315],\n",
              "       [0.96803653, 0.03196347],\n",
              "       [0.06561086, 0.93438914],\n",
              "       [0.04910714, 0.95089286],\n",
              "       [0.39910314, 0.60089686],\n",
              "       [0.77751756, 0.22248244],\n",
              "       [0.32731377, 0.67268623],\n",
              "       [0.99770115, 0.00229885],\n",
              "       [0.31376975, 0.68623025],\n",
              "       [0.01822323, 0.98177677],\n",
              "       [0.11409396, 0.88590604],\n",
              "       [0.94036697, 0.05963303],\n",
              "       [0.98675497, 0.01324503],\n",
              "       [0.30855856, 0.69144144],\n",
              "       [0.95271868, 0.04728132],\n",
              "       [0.10835214, 0.89164786],\n",
              "       [0.57207207, 0.42792793],\n",
              "       [0.99772727, 0.00227273],\n",
              "       [0.90047393, 0.09952607],\n",
              "       [0.66893424, 0.33106576],\n",
              "       [0.98855835, 0.01144165],\n",
              "       [0.64559819, 0.35440181],\n",
              "       [0.95402299, 0.04597701],\n",
              "       [0.10633484, 0.89366516],\n",
              "       [0.11034483, 0.88965517],\n",
              "       [0.52860412, 0.47139588],\n",
              "       [0.74588235, 0.25411765],\n",
              "       [0.9503386 , 0.0496614 ],\n",
              "       [0.95172414, 0.04827586],\n",
              "       [0.56750572, 0.43249428],\n",
              "       [0.07900677, 0.92099323],\n",
              "       [0.6097561 , 0.3902439 ],\n",
              "       [0.09395973, 0.90604027],\n",
              "       [0.08823529, 0.91176471],\n",
              "       [0.90227273, 0.09772727],\n",
              "       [0.97787611, 0.02212389],\n",
              "       [0.87037037, 0.12962963],\n",
              "       [0.92857143, 0.07142857],\n",
              "       [0.15401786, 0.84598214],\n",
              "       [0.05633803, 0.94366197],\n",
              "       [0.91611479, 0.08388521],\n",
              "       [0.94226328, 0.05773672],\n",
              "       [0.99774266, 0.00225734],\n",
              "       [0.07743363, 0.92256637],\n",
              "       [0.12616822, 0.87383178],\n",
              "       [0.9543379 , 0.0456621 ],\n",
              "       [0.15242494, 0.84757506],\n",
              "       [0.05816555, 0.94183445],\n",
              "       [0.18077803, 0.81922197],\n",
              "       [0.11804009, 0.88195991],\n",
              "       [0.94196429, 0.05803571],\n",
              "       [0.67792793, 0.32207207],\n",
              "       [0.93468468, 0.06531532],\n",
              "       [0.13272311, 0.86727689],\n",
              "       [0.92099323, 0.07900677],\n",
              "       [0.11547344, 0.88452656],\n",
              "       [0.13963964, 0.86036036],\n",
              "       [0.99302326, 0.00697674],\n",
              "       [0.97085202, 0.02914798],\n",
              "       [0.1797235 , 0.8202765 ],\n",
              "       [0.9977221 , 0.0022779 ],\n",
              "       [0.14508929, 0.85491071],\n",
              "       [0.91590909, 0.08409091],\n",
              "       [0.1347032 , 0.8652968 ],\n",
              "       [0.96543779, 0.03456221],\n",
              "       [0.95364238, 0.04635762],\n",
              "       [0.76309795, 0.23690205],\n",
              "       [0.18300654, 0.81699346],\n",
              "       [0.46563193, 0.53436807],\n",
              "       [0.57798165, 0.42201835],\n",
              "       [0.03603604, 0.96396396],\n",
              "       [0.75681818, 0.24318182],\n",
              "       [0.14380531, 0.85619469],\n",
              "       [0.10835214, 0.89164786],\n",
              "       [0.85260771, 0.14739229],\n",
              "       [0.91803279, 0.08196721],\n",
              "       [0.60801782, 0.39198218],\n",
              "       [0.20229885, 0.79770115],\n",
              "       [0.738041  , 0.261959  ],\n",
              "       [0.07918552, 0.92081448],\n",
              "       [0.13439636, 0.86560364],\n",
              "       [0.9954955 , 0.0045045 ],\n",
              "       [0.15131579, 0.84868421],\n",
              "       [0.99109131, 0.00890869],\n",
              "       [0.47045455, 0.52954545],\n",
              "       [0.97130243, 0.02869757],\n",
              "       [0.61160714, 0.38839286],\n",
              "       [0.70222222, 0.29777778],\n",
              "       [0.63348416, 0.36651584],\n",
              "       [0.75114155, 0.24885845],\n",
              "       [0.16964286, 0.83035714],\n",
              "       [0.92743764, 0.07256236],\n",
              "       [0.96519722, 0.03480278],\n",
              "       [0.23640662, 0.76359338],\n",
              "       [0.75838926, 0.24161074],\n",
              "       [0.37272727, 0.62727273],\n",
              "       [0.81149425, 0.18850575],\n",
              "       [0.10538117, 0.89461883],\n",
              "       [0.1463964 , 0.8536036 ],\n",
              "       [0.95011338, 0.04988662],\n",
              "       [0.2       , 0.8       ],\n",
              "       [0.43851508, 0.56148492],\n",
              "       [0.08428246, 0.91571754],\n",
              "       [0.94654788, 0.05345212],\n",
              "       [0.87973274, 0.12026726],\n",
              "       [0.20374707, 0.79625293],\n",
              "       [0.01797753, 0.98202247],\n",
              "       [0.99082569, 0.00917431],\n",
              "       [0.32054176, 0.67945824],\n",
              "       [0.41573034, 0.58426966],\n",
              "       [0.94582393, 0.05417607],\n",
              "       [0.02117647, 0.97882353],\n",
              "       [0.48988764, 0.51011236],\n",
              "       [0.06546275, 0.93453725],\n",
              "       [0.10180995, 0.89819005],\n",
              "       [0.99074074, 0.00925926],\n",
              "       [0.11441648, 0.88558352],\n",
              "       [0.03464203, 0.96535797],\n",
              "       [0.95909091, 0.04090909],\n",
              "       [0.64864865, 0.35135135],\n",
              "       [0.91916859, 0.08083141],\n",
              "       [0.10440835, 0.89559165],\n",
              "       [0.98614319, 0.01385681],\n",
              "       [0.99767981, 0.00232019],\n",
              "       [0.10430839, 0.89569161],\n",
              "       [0.0248307 , 0.9751693 ],\n",
              "       [0.99311927, 0.00688073],\n",
              "       [0.83900227, 0.16099773],\n",
              "       [0.06081081, 0.93918919],\n",
              "       [0.95515695, 0.04484305],\n",
              "       [0.97078652, 0.02921348],\n",
              "       [0.27455357, 0.72544643],\n",
              "       [0.96287703, 0.03712297],\n",
              "       [0.04367816, 0.95632184],\n",
              "       [0.21710526, 0.78289474],\n",
              "       [0.53103448, 0.46896552],\n",
              "       [0.01809955, 0.98190045],\n",
              "       [0.98152425, 0.01847575],\n",
              "       [0.84162896, 0.15837104],\n",
              "       [0.53440367, 0.46559633],\n",
              "       [0.95711061, 0.04288939],\n",
              "       [0.11529933, 0.88470067],\n",
              "       [0.83863636, 0.16136364],\n",
              "       [0.99535963, 0.00464037],\n",
              "       [0.0521542 , 0.9478458 ],\n",
              "       [0.95730337, 0.04269663],\n",
              "       [0.10958904, 0.89041096],\n",
              "       [0.10526316, 0.89473684],\n",
              "       [0.80875576, 0.19124424],\n",
              "       [0.05491991, 0.94508009],\n",
              "       [0.31919643, 0.68080357],\n",
              "       [0.97533632, 0.02466368],\n",
              "       [0.1258427 , 0.8741573 ],\n",
              "       [0.03160271, 0.96839729],\n",
              "       [0.96651786, 0.03348214],\n",
              "       [0.95671982, 0.04328018],\n",
              "       [0.16960352, 0.83039648],\n",
              "       [0.23287671, 0.76712329],\n",
              "       [0.46475771, 0.53524229],\n",
              "       [0.30542986, 0.69457014],\n",
              "       [0.92081448, 0.07918552],\n",
              "       [0.0826087 , 0.9173913 ],\n",
              "       [0.25112108, 0.74887892],\n",
              "       [0.24886878, 0.75113122],\n",
              "       [0.03009259, 0.96990741],\n",
              "       [0.18863636, 0.81136364],\n",
              "       [0.975     , 0.025     ],\n",
              "       [0.09360731, 0.90639269],\n",
              "       [0.91685393, 0.08314607],\n",
              "       [0.17633929, 0.82366071],\n",
              "       [0.76590909, 0.23409091],\n",
              "       [0.11111111, 0.88888889],\n",
              "       [0.96127563, 0.03872437],\n",
              "       [0.975     , 0.025     ],\n",
              "       [0.53364269, 0.46635731],\n",
              "       [0.97072072, 0.02927928],\n",
              "       [0.95642202, 0.04357798],\n",
              "       [0.94117647, 0.05882353],\n",
              "       [0.96478873, 0.03521127],\n",
              "       [0.96205357, 0.03794643],\n",
              "       [0.63109049, 0.36890951],\n",
              "       [0.60132159, 0.39867841],\n",
              "       [0.01363636, 0.98636364],\n",
              "       [0.9527027 , 0.0472973 ],\n",
              "       [0.74884793, 0.25115207],\n",
              "       [0.19004525, 0.80995475],\n",
              "       [0.06919643, 0.93080357],\n",
              "       [0.90337079, 0.09662921],\n",
              "       [0.073903  , 0.926097  ],\n",
              "       [0.29017857, 0.70982143],\n",
              "       [0.95945946, 0.04054054],\n",
              "       [0.09677419, 0.90322581],\n",
              "       [0.08200456, 0.91799544],\n",
              "       [0.86813187, 0.13186813],\n",
              "       [0.94562648, 0.05437352],\n",
              "       [0.0812065 , 0.9187935 ],\n",
              "       [0.04157044, 0.95842956],\n",
              "       [0.58027523, 0.41972477],\n",
              "       [0.8280543 , 0.1719457 ],\n",
              "       [0.04298643, 0.95701357],\n",
              "       [0.45601852, 0.54398148],\n",
              "       [0.36160714, 0.63839286],\n",
              "       [0.07158837, 0.92841163],\n",
              "       [0.86261261, 0.13738739],\n",
              "       [0.96651786, 0.03348214],\n",
              "       [0.90702948, 0.09297052],\n",
              "       [0.97091723, 0.02908277],\n",
              "       [0.89791183, 0.10208817],\n",
              "       [0.95464853, 0.04535147],\n",
              "       [0.27088036, 0.72911964],\n",
              "       [0.09677419, 0.90322581],\n",
              "       [0.06681514, 0.93318486],\n",
              "       [0.93394077, 0.06605923],\n",
              "       [0.14942529, 0.85057471],\n",
              "       [0.953125  , 0.046875  ],\n",
              "       [0.1536643 , 0.8463357 ],\n",
              "       [0.65315315, 0.34684685],\n",
              "       [0.47737557, 0.52262443],\n",
              "       [0.3943662 , 0.6056338 ],\n",
              "       [0.73696682, 0.26303318],\n",
              "       [0.11441648, 0.88558352],\n",
              "       [0.25675676, 0.74324324],\n",
              "       [0.03794643, 0.96205357],\n",
              "       [0.78097345, 0.21902655],\n",
              "       [0.08558559, 0.91441441],\n",
              "       [0.35981308, 0.64018692],\n",
              "       [0.02242152, 0.97757848]])"
            ]
          },
          "metadata": {},
          "execution_count": 16
        }
      ]
    },
    {
      "cell_type": "code",
      "source": [],
      "metadata": {
        "id": "R0cZWqUA7t_L"
      },
      "execution_count": null,
      "outputs": []
    },
    {
      "cell_type": "markdown",
      "source": [
        "# random forest "
      ],
      "metadata": {
        "id": "3EuxTr4w7ucC"
      }
    },
    {
      "cell_type": "code",
      "source": [
        "from sklearn.ensemble import RandomForestClassifier\n",
        "rf_clf = RandomForestClassifier()\n",
        "rf_clf.fit(x_train, y_train)\n"
      ],
      "metadata": {
        "colab": {
          "base_uri": "https://localhost:8080/"
        },
        "id": "kyYLpHki7w16",
        "outputId": "51dec351-eb21-4dac-d2c5-e5be0f2d86eb"
      },
      "execution_count": 17,
      "outputs": [
        {
          "output_type": "execute_result",
          "data": {
            "text/plain": [
              "RandomForestClassifier()"
            ]
          },
          "metadata": {},
          "execution_count": 17
        }
      ]
    },
    {
      "cell_type": "markdown",
      "source": [
        "# Feature importance "
      ],
      "metadata": {
        "id": "Rmk3Uf6N9HO3"
      }
    },
    {
      "cell_type": "code",
      "source": [
        "from sklearn.datasets import load_iris\n",
        "iris = load_iris()\n",
        "rf_clf = RandomForestClassifier(n_estimators=500, n_jobs=-1)\n",
        "rf_clf.fit(iris['data'], iris['target'])\n",
        "for name, score in zip(iris['feature_names'], rf_clf.feature_importances_):\n",
        "  print(name, score)"
      ],
      "metadata": {
        "colab": {
          "base_uri": "https://localhost:8080/"
        },
        "id": "x9U7ZX217_Fo",
        "outputId": "84286b3d-16b2-4692-c91c-810dad30320f"
      },
      "execution_count": 18,
      "outputs": [
        {
          "output_type": "stream",
          "name": "stdout",
          "text": [
            "sepal length (cm) 0.09928824541048532\n",
            "sepal width (cm) 0.022673335645658682\n",
            "petal length (cm) 0.4323548726758574\n",
            "petal width (cm) 0.4456835462679985\n"
          ]
        }
      ]
    },
    {
      "cell_type": "markdown",
      "source": [
        "## Mnist dataset feature importance"
      ],
      "metadata": {
        "id": "fXPB6Wts9sg3"
      }
    },
    {
      "cell_type": "code",
      "source": [
        "from sklearn.datasets import fetch_openml\n",
        "X, y = fetch_openml(\"mnist_784\", version=1, return_X_y=True, as_frame=False)"
      ],
      "metadata": {
        "id": "RdTB5eGh9r4W"
      },
      "execution_count": 19,
      "outputs": []
    },
    {
      "cell_type": "code",
      "source": [
        "rf_clf = RandomForestClassifier(n_estimators=500, n_jobs=-1)\n",
        "rf_clf.fit(X,y)"
      ],
      "metadata": {
        "id": "vj6SVWD89Glz",
        "colab": {
          "base_uri": "https://localhost:8080/"
        },
        "outputId": "be2991d8-83a3-4366-8db6-4fb84776a684"
      },
      "execution_count": 20,
      "outputs": [
        {
          "output_type": "execute_result",
          "data": {
            "text/plain": [
              "RandomForestClassifier(n_estimators=500, n_jobs=-1)"
            ]
          },
          "metadata": {},
          "execution_count": 20
        }
      ]
    },
    {
      "cell_type": "code",
      "source": [
        "rf_clf.feature_importances_.shape"
      ],
      "metadata": {
        "id": "PlQV1AOcALq8"
      },
      "execution_count": null,
      "outputs": []
    },
    {
      "cell_type": "code",
      "source": [
        "def plot_digit(data):\n",
        "  image = data.reshape(28,28)\n",
        "  plt.imshow(image, cmap=matplotlib.cm.hot)\n",
        "  plt.axis('off')"
      ],
      "metadata": {
        "id": "pwqdHQERAi7d"
      },
      "execution_count": 22,
      "outputs": []
    },
    {
      "cell_type": "code",
      "source": [
        "plot_digit(rf_clf.feature_importances_)\n",
        "char=plt.colorbar(ticks=[rf_clf.feature_importances_.min(),rf_clf.feature_importances_.max()])\n",
        "char.ax.set_yticklabels([\"not importance\", 'very important'])"
      ],
      "metadata": {
        "id": "GUKoSJHmA0SA",
        "colab": {
          "base_uri": "https://localhost:8080/",
          "height": 275
        },
        "outputId": "e644cfc8-885c-483b-f7bc-a1770d67614e"
      },
      "execution_count": 23,
      "outputs": [
        {
          "output_type": "execute_result",
          "data": {
            "text/plain": [
              "[Text(1, 0, 'not importance'), Text(1, 0, 'very important')]"
            ]
          },
          "metadata": {},
          "execution_count": 23
        },
        {
          "output_type": "display_data",
          "data": {
            "text/plain": [
              "<Figure size 432x288 with 2 Axes>"
            ],
            "image/png": "[encoded data removed]"
          },
          "metadata": {
            "needs_background": "light"
          }
        }
      ]
    },
    {
      "cell_type": "markdown",
      "source": [
        "# Boosting \n",
        "## AdaBoost"
      ],
      "metadata": {
        "id": "zeSDyilQe_3S"
      }
    },
    {
      "cell_type": "code",
      "source": [
        "m =len(x_train)\n",
        "from sklearn.svm import SVC\n",
        "plt.figure(figsize=(12,4))\n",
        "for subplot, learning_rate in ((121,1), (122,0.5)):\n",
        "  sample_weights = np.ones(m)\n",
        "  plt.subplot(subplot)\n",
        "  for i in range(5):\n",
        "    svm_clf = SVC(kernel='rbf', C=0.05, random_state=42)\n",
        "    svm_clf.fit(x_train, y_train, sample_weight = sample_weights)\n",
        "    y_pred = svm_clf.predict(x_train)\n",
        "    sample_weights[y_pred != y_train] *=(1+learning_rate)\n",
        "    plot_decision_boundary(svm_clf,x_train,y_train)\n",
        "    plt.title(\"learning_rate={}\".format(learning_rate))\n",
        "plt.show()\n",
        "\n"
      ],
      "metadata": {
        "id": "5jTO3YbqecH1",
        "colab": {
          "base_uri": "https://localhost:8080/",
          "height": 258
        },
        "outputId": "74aeac04-81d7-4c8e-a5d4-6c8865d6e651"
      },
      "execution_count": 24,
      "outputs": [
        {
          "output_type": "display_data",
          "data": {
            "text/plain": [
              "<Figure size 864x288 with 2 Axes>"
            ],
            "image/png": "[encoded data removed]"
          },
          "metadata": {
            "needs_background": "light"
          }
        }
      ]
    },
    {
      "cell_type": "code",
      "source": [
        "from sklearn.ensemble import AdaBoostClassifier\n",
        "adb_clf = AdaBoostClassifier(DecisionTreeClassifier(max_depth=1),\n",
        "                             n_estimators=200, \n",
        "                             learning_rate=0.5,\n",
        "                             random_state=42)\n",
        "adb_clf.fit(x_train, y_train)\n",
        "plot_decision_boundary(adb_clf,x_train, y_train)"
      ],
      "metadata": {
        "id": "nemgzFDsiOLC",
        "colab": {
          "base_uri": "https://localhost:8080/",
          "height": 283
        },
        "outputId": "0212df6a-6224-41c8-814a-a7e5e9b1563f"
      },
      "execution_count": 25,
      "outputs": [
        {
          "output_type": "display_data",
          "data": {
            "text/plain": [
              "<Figure size 432x288 with 1 Axes>"
            ],
            "image/png": "[encoded data removed]"
          },
          "metadata": {
            "needs_background": "light"
          }
        }
      ]
    },
    {
      "cell_type": "markdown",
      "source": [
        "# Gradient boosting"
      ],
      "metadata": {
        "id": "RoUcxtxAkEYN"
      }
    },
    {
      "cell_type": "code",
      "source": [
        "np.random.seed(45)\n",
        "x = np.random.rand(100,1)-0.5\n",
        "y = 3*x[:,0]**2 + 0.05*np.random.randn(100)"
      ],
      "metadata": {
        "id": "RLd9HmpexTha"
      },
      "execution_count": 26,
      "outputs": []
    },
    {
      "cell_type": "code",
      "source": [
        "from sklearn.tree import DecisionTreeRegressor\n",
        "dec_reg = DecisionTreeRegressor()"
      ],
      "metadata": {
        "id": "QGsFR0BkxxRp"
      },
      "execution_count": 27,
      "outputs": []
    },
    {
      "cell_type": "code",
      "source": [
        "dec_reg.fit(x,y)\n"
      ],
      "metadata": {
        "id": "rC1wO-cFxpRE",
        "colab": {
          "base_uri": "https://localhost:8080/"
        },
        "outputId": "43833e7c-d87b-402f-ae42-907370aa3594"
      },
      "execution_count": 28,
      "outputs": [
        {
          "output_type": "execute_result",
          "data": {
            "text/plain": [
              "DecisionTreeRegressor()"
            ]
          },
          "metadata": {},
          "execution_count": 28
        }
      ]
    },
    {
      "cell_type": "code",
      "source": [
        "y2 = y-dec_reg.predict(x)\n",
        "dec_reg2 =DecisionTreeRegressor()\n",
        "dec_reg2.fit(x,y2)\n"
      ],
      "metadata": {
        "id": "hNSH5sflyHAo",
        "colab": {
          "base_uri": "https://localhost:8080/"
        },
        "outputId": "c6398bca-70cf-416d-a3bc-8a4248eac8ee"
      },
      "execution_count": 29,
      "outputs": [
        {
          "output_type": "execute_result",
          "data": {
            "text/plain": [
              "DecisionTreeRegressor()"
            ]
          },
          "metadata": {},
          "execution_count": 29
        }
      ]
    },
    {
      "cell_type": "code",
      "source": [
        "y3 = y2-dec_reg2.predict(x)\n",
        "dec_reg3 =DecisionTreeRegressor()\n",
        "dec_reg3.fit(x,y3)"
      ],
      "metadata": {
        "id": "ASmj5k9XyXxO",
        "colab": {
          "base_uri": "https://localhost:8080/"
        },
        "outputId": "e3b3604e-1efa-453b-9e9f-284f626071a2"
      },
      "execution_count": 30,
      "outputs": [
        {
          "output_type": "execute_result",
          "data": {
            "text/plain": [
              "DecisionTreeRegressor()"
            ]
          },
          "metadata": {},
          "execution_count": 30
        }
      ]
    },
    {
      "cell_type": "code",
      "source": [
        "x_new = np.array([[0.8]])\n",
        "y_pred = sum(tree.predict(x_new) for tree in (dec_reg,dec_reg2,dec_reg3))\n",
        "y_pred"
      ],
      "metadata": {
        "id": "bIixbEhdyd9-",
        "colab": {
          "base_uri": "https://localhost:8080/"
        },
        "outputId": "a8eaa12f-1367-4a83-8efc-58c5f1aaf467"
      },
      "execution_count": 31,
      "outputs": [
        {
          "output_type": "execute_result",
          "data": {
            "text/plain": [
              "array([0.69900251])"
            ]
          },
          "metadata": {},
          "execution_count": 31
        }
      ]
    },
    {
      "cell_type": "markdown",
      "source": [
        " - gradient boosting package: XGboost, lightGBM"
      ],
      "metadata": {
        "id": "rWQ5NVQRzEhL"
      }
    },
    {
      "cell_type": "code",
      "source": [
        "\n",
        "from sklearn.ensemble import GradientBoostingRegressor\n",
        "gbdt = GradientBoostingRegressor(max_depth=2, n_estimators=3, learning_rate=1.0, random_state=42)\n",
        "gbdt.fit(x, y)\n"
      ],
      "metadata": {
        "id": "ON6tZ0wfmT_J",
        "colab": {
          "base_uri": "https://localhost:8080/"
        },
        "outputId": "6b2648d5-0a6a-45f4-d635-0d3b4a92c81b"
      },
      "execution_count": 32,
      "outputs": [
        {
          "output_type": "execute_result",
          "data": {
            "text/plain": [
              "GradientBoostingRegressor(learning_rate=1.0, max_depth=2, n_estimators=3,\n",
              "                          random_state=42)"
            ]
          },
          "metadata": {},
          "execution_count": 32
        }
      ]
    },
    {
      "cell_type": "code",
      "source": [
        "\n",
        "from sklearn.ensemble import GradientBoostingRegressor\n",
        "gbdt_slow = GradientBoostingRegressor(max_depth=2, n_estimators=3, learning_rate=0.1, random_state=42)\n",
        "gbdt_slow.fit(x, y)\n"
      ],
      "metadata": {
        "id": "JA1MyA0F2Mf9",
        "colab": {
          "base_uri": "https://localhost:8080/"
        },
        "outputId": "bc216ef7-52b8-477e-ca09-3253248ef59e"
      },
      "execution_count": 33,
      "outputs": [
        {
          "output_type": "execute_result",
          "data": {
            "text/plain": [
              "GradientBoostingRegressor(max_depth=2, n_estimators=3, random_state=42)"
            ]
          },
          "metadata": {},
          "execution_count": 33
        }
      ]
    },
    {
      "cell_type": "code",
      "source": [
        "from sklearn.ensemble import GradientBoostingRegressor\n",
        "gbdt_3 = GradientBoostingRegressor(max_depth=2, n_estimators=200, learning_rate=0.1, random_state=42)\n",
        "gbdt_3.fit(x, y)"
      ],
      "metadata": {
        "id": "0EWYhZCq2SAO",
        "colab": {
          "base_uri": "https://localhost:8080/"
        },
        "outputId": "e2391bb6-aa92-46a4-d119-9c3e244f3335"
      },
      "execution_count": 34,
      "outputs": [
        {
          "output_type": "execute_result",
          "data": {
            "text/plain": [
              "GradientBoostingRegressor(max_depth=2, n_estimators=200, random_state=42)"
            ]
          },
          "metadata": {},
          "execution_count": 34
        }
      ]
    },
    {
      "cell_type": "code",
      "source": [
        "x1 = np.linspace([-0.5], [0.5], 100)\n",
        "plt.figure(figsize = (11,4))\n",
        "plt.subplot(121)\n",
        "plt.plot(x, y ,'b.')\n",
        "plt.plot(x1,gbdt.predict(x1), 'r-', label='learning_rate 1')\n",
        "plt.axis([-0.5,0.5,-0.1,0.8])\n",
        "plt.title(\"learning_rate is {}\".format(gbdt.learning_rate))\n",
        "plt.subplot(122)\n",
        "plt.plot(x, y ,'b.')\n",
        "plt.plot(x1,gbdt_slow.predict(x1), 'r-', label='learning_rate 0.1')\n",
        "plt.axis([-0.5,0.5,-0.1, 0.8])\n",
        "plt.title(\"learning_rate is {}\".format(gbdt_slow.learning_rate))\n",
        "plt.show()"
      ],
      "metadata": {
        "id": "t5q5Hv9e2Xqj",
        "colab": {
          "base_uri": "https://localhost:8080/",
          "height": 269
        },
        "outputId": "6d552cf2-d1b2-458f-c8e6-1de37830174d"
      },
      "execution_count": 35,
      "outputs": [
        {
          "output_type": "display_data",
          "data": {
            "text/plain": [
              "<Figure size 792x288 with 2 Axes>"
            ],
            "image/png": "[encoded data removed]"
          },
          "metadata": {
            "needs_background": "light"
          }
        }
      ]
    },
    {
      "cell_type": "code",
      "source": [
        "x1 = np.linspace([-0.5], [0.5], 100)\n",
        "plt.figure(figsize = (11,4))\n",
        "plt.subplot(121)\n",
        "plt.plot(x, y ,'b.')\n",
        "plt.plot(x1,gbdt.predict(x1), 'r-', label='learning_rate 1')\n",
        "plt.axis([-0.5,0.5,-0.1,0.8])\n",
        "plt.title(\"Tree number is {}\".format(gbdt.n_estimators_))\n",
        "plt.subplot(122)\n",
        "plt.plot(x, y ,'b.')\n",
        "plt.plot(x1,gbdt_3.predict(x1), 'r-', label='learning_rate 0.1')\n",
        "plt.axis([-0.5,0.5,-0.1, 0.8])\n",
        "plt.title(\"tree number is {}\".format(gbdt_3.n_estimators_))\n",
        "plt.show()"
      ],
      "metadata": {
        "id": "KDZHUCBX6gNN",
        "colab": {
          "base_uri": "https://localhost:8080/",
          "height": 269
        },
        "outputId": "f9bbadda-cbd6-4568-f3e7-c6823406497e"
      },
      "execution_count": 36,
      "outputs": [
        {
          "output_type": "display_data",
          "data": {
            "text/plain": [
              "<Figure size 792x288 with 2 Axes>"
            ],
            "image/png": "[encoded data removed]"
          },
          "metadata": {
            "needs_background": "light"
          }
        }
      ]
    },
    {
      "cell_type": "markdown",
      "source": [
        "# Early stopping strategy"
      ],
      "metadata": {
        "id": "7q7FEyj262k8"
      }
    },
    {
      "cell_type": "code",
      "source": [
        "from sklearn.metrics import mean_squared_error\n",
        "x_train, x_test, y_train, y_test = train_test_split(x, y, train_size=0.8, random_state=42)\n",
        "grbt = GradientBoostingRegressor(max_depth=2, n_estimators=120, random_state=42)\n",
        "grbt.fit(x_train, y_train)"
      ],
      "metadata": {
        "colab": {
          "base_uri": "https://localhost:8080/"
        },
        "id": "ZoMT0uvN7fjd",
        "outputId": "3685cb9d-511b-4769-bb1c-e7d91ee9aa97"
      },
      "execution_count": 37,
      "outputs": [
        {
          "output_type": "execute_result",
          "data": {
            "text/plain": [
              "GradientBoostingRegressor(max_depth=2, n_estimators=120, random_state=42)"
            ]
          },
          "metadata": {},
          "execution_count": 37
        }
      ]
    },
    {
      "cell_type": "code",
      "source": [
        "errors = [mean_squared_error(y_test, y_pred) for y_pred in grbt.staged_predict(x_test)]\n",
        "best_n_estimators = np.argmin(errors)\n",
        "grbt_best =  GradientBoostingRegressor(max_depth=2, n_estimators=best_n_estimators , random_state=42)\n",
        "grbt_best.fit(x_train, y_train)\n"
      ],
      "metadata": {
        "id": "iiAglaj161_L",
        "colab": {
          "base_uri": "https://localhost:8080/"
        },
        "outputId": "460577d7-962a-4c31-9ec1-b8506bbf48d9"
      },
      "execution_count": 38,
      "outputs": [
        {
          "output_type": "execute_result",
          "data": {
            "text/plain": [
              "GradientBoostingRegressor(max_depth=2, n_estimators=43, random_state=42)"
            ]
          },
          "metadata": {},
          "execution_count": 38
        }
      ]
    },
    {
      "cell_type": "code",
      "source": [
        "min_error = np.min(errors)\n",
        "min_error"
      ],
      "metadata": {
        "id": "pdKi4iAZBVBX",
        "colab": {
          "base_uri": "https://localhost:8080/"
        },
        "outputId": "410e6d1f-1905-4fb6-cb03-3545962ca0ac"
      },
      "execution_count": 39,
      "outputs": [
        {
          "output_type": "execute_result",
          "data": {
            "text/plain": [
              "0.004871068744919322"
            ]
          },
          "metadata": {},
          "execution_count": 39
        }
      ]
    },
    {
      "cell_type": "code",
      "source": [
        "plt.figure(figsize=(11,4))\n",
        "plt.subplot(121)\n",
        "plt.plot(errors, 'b.')\n",
        "plt.plot([best_n_estimators, best_n_estimators], [0,min_error], 'k--')\n",
        "plt.plot([0,120], [min_error, min_error], 'k--')\n",
        "plt.title('val error')\n",
        "plt.axis([0,120,0,0.01])\n",
        "plt.subplot(122)\n",
        "plt.plot(x,y,'b.')\n",
        "x1 = np.linspace([-0.5], [0.5], 100)\n",
        "plt.plot(x1, grbt_best.predict(x1), 'r-')\n",
        "plt.title(\"best method with estimator {}\".format(grbt_best.n_estimators_))"
      ],
      "metadata": {
        "id": "dzxFXEeHBaXY",
        "colab": {
          "base_uri": "https://localhost:8080/",
          "height": 284
        },
        "outputId": "cb5bc698-efce-4958-bc38-2c8fa89b1ada"
      },
      "execution_count": 40,
      "outputs": [
        {
          "output_type": "execute_result",
          "data": {
            "text/plain": [
              "Text(0.5, 1.0, 'best method with estimator 43')"
            ]
          },
          "metadata": {},
          "execution_count": 40
        },
        {
          "output_type": "display_data",
          "data": {
            "text/plain": [
              "<Figure size 792x288 with 2 Axes>"
            ],
            "image/png": "[encoded data removed]"
          },
          "metadata": {
            "needs_background": "light"
          }
        }
      ]
    },
    {
      "cell_type": "markdown",
      "source": [
        "- Early stopping strategy"
      ],
      "metadata": {
        "id": "-kQV0AllMTp7"
      }
    },
    {
      "cell_type": "code",
      "source": [
        "grbt = GradientBoostingRegressor(max_depth=2, warm_start=True, random_state=42)  #use warm start method\n",
        "min_val_error = float('inf')\n",
        "error_going_up = 0\n",
        "for n_estimators in range(1,120):\n",
        "  grbt.n_estimators = n_estimators\n",
        "  grbt.fit(x_train, y_train)\n",
        "  y_pred = grbt.predict(x_test)\n",
        "  val_error = mean_squared_error(y_test, y_pred)\n",
        "  if val_error<min_val_error:\n",
        "    min_val_error = val_error\n",
        "    error_going_up = 0\n",
        "  else:\n",
        "    error_going_up += 1\n",
        "    if error_going_up == 5:\n",
        "      break\n",
        "      \n",
        "\n",
        "\n"
      ],
      "metadata": {
        "id": "Jad4ZCVFMTNQ"
      },
      "execution_count": 41,
      "outputs": []
    },
    {
      "cell_type": "code",
      "source": [
        "print(grbt.n_estimators_)"
      ],
      "metadata": {
        "colab": {
          "base_uri": "https://localhost:8080/"
        },
        "id": "gUHNkQ1bNvML",
        "outputId": "5cd76b4e-6b70-4214-9771-84d53777b180"
      },
      "execution_count": 42,
      "outputs": [
        {
          "output_type": "stream",
          "name": "stdout",
          "text": [
            "49\n"
          ]
        }
      ]
    },
    {
      "cell_type": "markdown",
      "source": [
        "# Stacking"
      ],
      "metadata": {
        "id": "sxCehySQEBGx"
      }
    },
    {
      "cell_type": "markdown",
      "source": [],
      "metadata": {
        "id": "wClyIYoRObd9"
      }
    },
    {
      "cell_type": "code",
      "source": [
        "from sklearn.datasets import fetch_openml\n",
        "from sklearn.model_selection import train_test_split\n",
        "mnist = fetch_openml(\"mnist_784\", version=1,as_frame=True)\n"
      ],
      "metadata": {
        "id": "uusjh4wVEAhI"
      },
      "execution_count": null,
      "outputs": []
    },
    {
      "cell_type": "code",
      "source": [
        "x_train, x_test, y_train, y_test = train_test_split(mnist.data, mnist.target, train_size=0.8, random_state=42)\n"
      ],
      "metadata": {
        "id": "RX6pmoEIHvKS"
      },
      "execution_count": 52,
      "outputs": []
    },
    {
      "cell_type": "code",
      "source": [
        "from sklearn.ensemble import RandomForestClassifier, ExtraTreesClassifier\n",
        "from sklearn.svm import LinearSVC\n",
        "from sklearn.neural_network import MLPClassifier\n",
        "rdm_clf = RandomForestClassifier(random_state=42)\n",
        "ext_clf = ExtraTreesClassifier(random_state=42)\n",
        "svc_clf = LinearSVC(max_iter=1500,random_state=42)\n",
        "mlp_clf = MLPClassifier(random_state=42)\n",
        "estimators = [rdm_clf, ext_clf, svc_clf, mlp_clf]"
      ],
      "metadata": {
        "id": "3XkrQB_yMwqV"
      },
      "execution_count": 56,
      "outputs": []
    },
    {
      "cell_type": "code",
      "source": [
        "for estimator in estimators:\n",
        "  print(\"training the {}\".format(estimator))\n",
        "  estimator.fit(x_train, y_train)"
      ],
      "metadata": {
        "colab": {
          "base_uri": "https://localhost:8080/"
        },
        "id": "urDGQXkFNjMw",
        "outputId": "4cab66c2-2bea-4384-c638-2b0a31a39c9a"
      },
      "execution_count": 58,
      "outputs": [
        {
          "output_type": "stream",
          "name": "stdout",
          "text": [
            "training the RandomForestClassifier(random_state=42)\n",
            "training the ExtraTreesClassifier(random_state=42)\n",
            "training the LinearSVC(random_state=42)\n"
          ]
        },
        {
          "output_type": "stream",
          "name": "stderr",
          "text": [
            "/usr/local/lib/python3.7/dist-packages/sklearn/svm/_base.py:1208: ConvergenceWarning: Liblinear failed to converge, increase the number of iterations.\n",
            "  ConvergenceWarning,\n"
          ]
        },
        {
          "output_type": "stream",
          "name": "stdout",
          "text": [
            "training the MLPClassifier(random_state=42)\n"
          ]
        }
      ]
    },
    {
      "cell_type": "markdown",
      "source": [
        "For stacking method, use the first stage result as the input for the second stage"
      ],
      "metadata": {
        "id": "w24Hn_X8Okw7"
      }
    },
    {
      "cell_type": "code",
      "source": [
        "type(enumerate(estimators))\n"
      ],
      "metadata": {
        "colab": {
          "base_uri": "https://localhost:8080/"
        },
        "id": "wMn3e8xoOrD1",
        "outputId": "b5b0776d-8b99-4617-bebd-7fe80a3a936f"
      },
      "execution_count": 62,
      "outputs": [
        {
          "output_type": "execute_result",
          "data": {
            "text/plain": [
              "enumerate"
            ]
          },
          "metadata": {},
          "execution_count": 62
        }
      ]
    },
    {
      "cell_type": "code",
      "source": [
        "x_test_pred = np.empty((len(x_test), len(estimators)), dtype=np.float32)\n",
        "for index, estimator in enumerate(estimators):\n",
        "  x_test_pred[:,index] = estimator.predict(x_test)\n"
      ],
      "metadata": {
        "id": "JhIbDpd5RGLd"
      },
      "execution_count": 67,
      "outputs": []
    },
    {
      "cell_type": "code",
      "source": [
        "rnd_forest_blender = RandomForestClassifier(n_estimators=200, random_state=42, oob_score=True)\n",
        "rnd_forest_blender.fit(x_test_pred, y_test)\n",
        "rnd_forest_blender.oob_score_"
      ],
      "metadata": {
        "colab": {
          "base_uri": "https://localhost:8080/"
        },
        "id": "fORwDuRiR7hj",
        "outputId": "6db1ce11-7e5d-4a4b-b698-13272a1b976a"
      },
      "execution_count": 69,
      "outputs": [
        {
          "output_type": "execute_result",
          "data": {
            "text/plain": [
              "0.9659285714285715"
            ]
          },
          "metadata": {},
          "execution_count": 69
        }
      ]
    }
  ]
}