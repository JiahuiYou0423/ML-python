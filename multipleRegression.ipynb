{
  "nbformat": 4,
  "nbformat_minor": 0,
  "metadata": {
    "colab": {
      "provenance": [],
      "collapsed_sections": []
    },
    "kernelspec": {
      "name": "python3",
      "display_name": "Python 3"
    },
    "language_info": {
      "name": "python"
    }
  },
  "cells": [
    {
      "cell_type": "markdown",
      "source": [
        "Importing the libraries"
      ],
      "metadata": {
        "id": "7W2gwQbmuFrD"
      }
    },
    {
      "cell_type": "code",
      "execution_count": 1,
      "metadata": {
        "id": "UFZ0-khRtu9s"
      },
      "outputs": [],
      "source": [
        "import numpy as np\n",
        "import pandas as pd\n",
        "import matplotlib as plt"
      ]
    },
    {
      "cell_type": "markdown",
      "source": [
        "Importing the data"
      ],
      "metadata": {
        "id": "XLdu0anbuYp8"
      }
    },
    {
      "cell_type": "code",
      "source": [
        "dataset=pd.read_csv(\"50_Startups.csv\")\n",
        "x=dataset.iloc[:, :-1].values\n",
        "y=dataset.iloc[:, -1].values\n",
        "print(x)"
      ],
      "metadata": {
        "id": "neRC4MlhuU8Q"
      },
      "execution_count": null,
      "outputs": []
    },
    {
      "cell_type": "markdown",
      "source": [
        "encoding the categorical data"
      ],
      "metadata": {
        "id": "Y3XFmverviGU"
      }
    },
    {
      "cell_type": "code",
      "source": [
        "from sklearn.compose import ColumnTransformer\n",
        "from sklearn.preprocessing import OneHotEncoder\n",
        "ct = ColumnTransformer(transformers=[('encoder', OneHotEncoder(), [3])], remainder='passthrough')\n",
        "x= np.array(ct.fit_transform(x))\n",
        "print(x)"
      ],
      "metadata": {
        "id": "cAqU6hHTvllQ"
      },
      "execution_count": null,
      "outputs": []
    },
    {
      "cell_type": "markdown",
      "source": [
        "Spliting the dataset into the training set and test set"
      ],
      "metadata": {
        "id": "yN5wmPFwvBwL"
      }
    },
    {
      "cell_type": "code",
      "source": [
        "from sklearn.model_selection import train_test_split\n",
        "x_train, x_test, y_train, y_test= train_test_split(x, y, train_size=0.8, random_state=0)"
      ],
      "metadata": {
        "id": "04JYQQf5vGrV"
      },
      "execution_count": 4,
      "outputs": []
    },
    {
      "cell_type": "markdown",
      "source": [
        "Training the multilinear regression model on the training data"
      ],
      "metadata": {
        "id": "PXy4nnXQw0fA"
      }
    },
    {
      "cell_type": "code",
      "source": [
        "from sklearn.linear_model import LinearRegression\n",
        "#class can avoid dummy variable trapping\n",
        "#class can find the feature with the highest P-value\n",
        "regressor = LinearRegression()\n",
        "regressor.fit(x_train, y_train)\n"
      ],
      "metadata": {
        "colab": {
          "base_uri": "https://localhost:8080/"
        },
        "id": "n2ixVQ9oQeyM",
        "outputId": "02a3b4d1-0851-470f-c94e-8db47953316e"
      },
      "execution_count": 6,
      "outputs": [
        {
          "output_type": "execute_result",
          "data": {
            "text/plain": [
              "LinearRegression()"
            ]
          },
          "metadata": {},
          "execution_count": 6
        }
      ]
    },
    {
      "cell_type": "markdown",
      "source": [
        "Predicting the test set results "
      ],
      "metadata": {
        "id": "n0bG4zhRSOC9"
      }
    },
    {
      "cell_type": "code",
      "source": [
        "#plot vector real profit in test set\n",
        "#plot predict profit in the test set\n",
        "#compare \n",
        "y_print = regressor.predict(x_test)\n",
        "np.set_printoptions(precision=2)  #set how floating point number are displayed\n",
        "print(np.concatenate((y_print.reshape(len(y_print),1), y_test.reshape(len(y_print),1)),1))  #first parameter should be a tuple, reshape can make the horizontal array vertical, define 1 or 0 to decide concatenate direction "
      ],
      "metadata": {
        "colab": {
          "base_uri": "https://localhost:8080/"
        },
        "id": "csNyY5kSSMiv",
        "outputId": "2a4d9d0f-4270-47d0-c61b-d59a4be8fdb1"
      },
      "execution_count": 8,
      "outputs": [
        {
          "output_type": "stream",
          "name": "stdout",
          "text": [
            "[[103015.2  103282.38]\n",
            " [132582.28 144259.4 ]\n",
            " [132447.74 146121.95]\n",
            " [ 71976.1   77798.83]\n",
            " [178537.48 191050.39]\n",
            " [116161.24 105008.31]\n",
            " [ 67851.69  81229.06]\n",
            " [ 98791.73  97483.56]\n",
            " [113969.44 110352.25]\n",
            " [167921.07 166187.94]]\n"
          ]
        }
      ]
    }
  ]
}