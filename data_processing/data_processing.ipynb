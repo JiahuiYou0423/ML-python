{
  "nbformat": 4,
  "nbformat_minor": 0,
  "metadata": {
    "colab": {
      "provenance": [],
      "collapsed_sections": []
    },
    "kernelspec": {
      "name": "python3",
      "display_name": "Python 3"
    },
    "language_info": {
      "name": "python"
    }
  },
  "cells": [
    {
      "cell_type": "markdown",
      "source": [
        "Importing the libraries"
      ],
      "metadata": {
        "id": "8IGriOHzf3yZ"
      }
    },
    {
      "cell_type": "code",
      "execution_count": 1,
      "metadata": {
        "id": "qUFPNKuGfYsQ"
      },
      "outputs": [],
      "source": [
        "import numpy as np\n",
        "import pandas as pd\n",
        "import matplotlib as plt"
      ]
    },
    {
      "cell_type": "markdown",
      "source": [
        "Importing the data"
      ],
      "metadata": {
        "id": "qHHFNhsqgCH2"
      }
    },
    {
      "cell_type": "code",
      "source": [
        "dataset=pd.read_csv('Data.csv')\n",
        "x = dataset.iloc[:,:-1].values\n",
        "y = dataset.iloc[:, -1].values\n",
        "print(x)\n",
        "print(y)"
      ],
      "metadata": {
        "colab": {
          "base_uri": "https://localhost:8080/"
        },
        "id": "eA6x7ckfgJcq",
        "outputId": "c36a92ec-ae8c-4e45-8873-b84db38ef65a"
      },
      "execution_count": 3,
      "outputs": [
        {
          "output_type": "stream",
          "name": "stdout",
          "text": [
            "[['France' 44.0 72000.0]\n",
            " ['Spain' 27.0 48000.0]\n",
            " ['Germany' 30.0 54000.0]\n",
            " ['Spain' 38.0 61000.0]\n",
            " ['Germany' 40.0 nan]\n",
            " ['France' 35.0 58000.0]\n",
            " ['Spain' nan 52000.0]\n",
            " ['France' 48.0 79000.0]\n",
            " ['Germany' 50.0 83000.0]\n",
            " ['France' 37.0 67000.0]]\n",
            "['No' 'Yes' 'No' 'No' 'Yes' 'Yes' 'No' 'Yes' 'No' 'Yes']\n"
          ]
        }
      ]
    },
    {
      "cell_type": "markdown",
      "source": [
        "Taking care of missing data"
      ],
      "metadata": {
        "id": "_ilaOSBug_tE"
      }
    },
    {
      "cell_type": "code",
      "source": [
        "#replace the missing data with the average data of that column\n",
        "from sklearn.impute import SimpleImputer\n",
        "imputer = SimpleImputer(missing_values=np.nan, strategy='mean')\n",
        "imputer.fit(x[:, 1:3])  #fit calculate the mean value\n",
        "x[:, 1:3]=imputer.transform(x[:, 1:3]) # transfer fit the missing value with the computed value \n",
        "print(x)"
      ],
      "metadata": {
        "id": "SlVgkJq9hFlj"
      },
      "execution_count": null,
      "outputs": []
    },
    {
      "cell_type": "markdown",
      "source": [
        "Encoding categorical data"
      ],
      "metadata": {
        "id": "lce22y2ii_a8"
      }
    },
    {
      "cell_type": "code",
      "source": [
        "#turn string into values\n",
        "from sklearn.compose import ColumnTransformer\n",
        "from sklearn.preprocessing import OneHotEncoder\n",
        "ct = ColumnTransformer(transformers=[('encoder', OneHotEncoder(), [0])], remainder='passthrough') #which column to change into encode\n",
        "x=ct.fit_transform(x)\n",
        "print(x)"
      ],
      "metadata": {
        "id": "mvOvunbWjFo1"
      },
      "execution_count": null,
      "outputs": []
    },
    {
      "cell_type": "markdown",
      "source": [
        "encoding the dependent variable"
      ],
      "metadata": {
        "id": "9-kdsWxwkNdm"
      }
    },
    {
      "cell_type": "code",
      "source": [
        "from sklearn.preprocessing import LabelEncoder\n",
        "le=LabelEncoder() #only dependent variable to encode\n",
        "y=le.fit_transform(y)\n",
        "print(y)"
      ],
      "metadata": {
        "id": "vWF1ABK6kWqV"
      },
      "execution_count": null,
      "outputs": []
    },
    {
      "cell_type": "markdown",
      "source": [
        "Splitting the dataset into the training set and test set "
      ],
      "metadata": {
        "id": "R397hWQLkSsW"
      }
    },
    {
      "cell_type": "code",
      "source": [
        "#feathre scaling after spliting \n",
        "#test case should not work with the training case (information leakage on test set)\n",
        "from sklearn.model_selection import train_test_split\n",
        "x_train, x_test, y_train, y_test=train_test_split(x, y, train_size=0.8, random_state=1)\n",
        "print(x_train)\n"
      ],
      "metadata": {
        "id": "d-3RUH-2k-s0"
      },
      "execution_count": null,
      "outputs": []
    },
    {
      "cell_type": "markdown",
      "source": [
        "Feature scaling "
      ],
      "metadata": {
        "id": "2RGBe7HJjE43"
      }
    },
    {
      "cell_type": "code",
      "source": [
        "#do we have feature scaling to dummy variable\n",
        "#no, all the value feature in the same range, dummy variable has already changed in to 0-1\n",
        "from sklearn.preprocessing import StandardScaler\n",
        "sc=StandardScaler()\n",
        "x_train[:, 3:] = sc.fit_transform(x_train[:, 3:])  #fit calculate mean and transform the value\n",
        "x_test[:, 3:] = sc.fit_transform(x_test[:, 3:])\n",
        "print(x_train)"
      ],
      "metadata": {
        "id": "RDIWZ_TslFq-"
      },
      "execution_count": null,
      "outputs": []
    }
  ]
}